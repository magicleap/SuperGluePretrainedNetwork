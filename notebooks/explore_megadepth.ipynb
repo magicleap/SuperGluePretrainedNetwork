{
 "cells": [
  {
   "cell_type": "code",
   "execution_count": 1,
   "id": "8e8542c8",
   "metadata": {},
   "outputs": [],
   "source": [
    "import glob\n",
    "import numpy as np\n",
    "import deepdish as dd\n",
    "import matplotlib.pyplot as plt\n",
    "import cv2\n",
    "import tqdm\n",
    "from pathlib import Path\n",
    "import os"
   ]
  },
  {
   "cell_type": "code",
   "execution_count": 18,
   "id": "fc7f8b31-19c7-4acf-bae4-37d4bf979fca",
   "metadata": {},
   "outputs": [],
   "source": [
    "MEGADEPTH_PATH = '/datasets/extra_space2/ostap/MegaDepth/'"
   ]
  },
  {
   "cell_type": "markdown",
   "id": "92996bc7",
   "metadata": {},
   "source": [
    "### Parse intr and extr parameters"
   ]
  },
  {
   "cell_type": "code",
   "execution_count": 2,
   "id": "8231f6e8",
   "metadata": {},
   "outputs": [],
   "source": [
    "from collections import namedtuple"
   ]
  },
  {
   "cell_type": "code",
   "execution_count": 6,
   "id": "02a5d116",
   "metadata": {},
   "outputs": [],
   "source": [
    "IntrinsicParams = namedtuple('IntrinsicParams', ['size', 'K'])\n",
    "ExtrinsicParams = namedtuple('ExtrinsicParams', ['R', 'T'])\n",
    "Point2d = namedtuple('Point2d', ['x', 'y', 'point3d_id'])\n",
    "Point3d = namedtuple('Point3d', ['id', 'x', 'y', 'z'])\n",
    "Image = namedtuple('Image', ['id', 'name', 'intr', 'extr', 'points'])"
   ]
  },
  {
   "cell_type": "code",
   "execution_count": 7,
   "id": "9e1718b3",
   "metadata": {},
   "outputs": [],
   "source": [
    "def parse_intrinsics_line(params_line):\n",
    "    camera_id, _, width, height, fx, fy, cx, cy = params_line.split(' ')\n",
    "    width, height, fx, fy, cx, cy = int(width), int(height), float(fx), float(fy), float(cx), float(cy)\n",
    "    K = np.array([\n",
    "        [fx, 0, cx],\n",
    "        [0, fy, cy],\n",
    "        [0, 0, 1]\n",
    "    ])\n",
    "    return camera_id, IntrinsicParams(K=K, size=(width, height))\n",
    "\n",
    "\n",
    "def get_camera2intr(camera_lines):\n",
    "    camera2intr = {}\n",
    "    for camera_params_line in tqdm.tqdm(camera_lines):\n",
    "        if camera_params_line.startswith('#'):\n",
    "            continue\n",
    "\n",
    "        camera_id, intrinsics = parse_intrinsics_line(camera_params_line.strip())\n",
    "        camera2intr[camera_id] = intrinsics\n",
    "    return camera2intr"
   ]
  },
  {
   "cell_type": "code",
   "execution_count": 8,
   "id": "e4446ff5",
   "metadata": {},
   "outputs": [],
   "source": [
    "def quaternion_rotation_matrix(q0, q1, q2, q3):\n",
    "    \"\"\"\n",
    "    Covert a quaternion into a full three-dimensional rotation matrix.\n",
    " \n",
    "    Input\n",
    "    :param Q: A 4 element array representing the quaternion (q0,q1,q2,q3) \n",
    " \n",
    "    Output\n",
    "    :return: A 3x3 element matrix representing the full 3D rotation matrix. \n",
    "             This rotation matrix converts a point in the local reference \n",
    "             frame to a point in the global reference frame.\n",
    "    \"\"\"\n",
    "     \n",
    "    # First row of the rotation matrix\n",
    "    r00 = 2 * (q0 * q0 + q1 * q1) - 1\n",
    "    r01 = 2 * (q1 * q2 - q0 * q3)\n",
    "    r02 = 2 * (q1 * q3 + q0 * q2)\n",
    "     \n",
    "    # Second row of the rotation matrix\n",
    "    r10 = 2 * (q1 * q2 + q0 * q3)\n",
    "    r11 = 2 * (q0 * q0 + q2 * q2) - 1\n",
    "    r12 = 2 * (q2 * q3 - q0 * q1)\n",
    "     \n",
    "    # Third row of the rotation matrix\n",
    "    r20 = 2 * (q1 * q3 - q0 * q2)\n",
    "    r21 = 2 * (q2 * q3 + q0 * q1)\n",
    "    r22 = 2 * (q0 * q0 + q3 * q3) - 1\n",
    "     \n",
    "    # 3x3 rotation matrix\n",
    "    rot_matrix = np.array([[r00, r01, r02],\n",
    "                           [r10, r11, r12],\n",
    "                           [r20, r21, r22]])\n",
    "                            \n",
    "    return rot_matrix"
   ]
  },
  {
   "cell_type": "code",
   "execution_count": 9,
   "id": "716fcae4",
   "metadata": {},
   "outputs": [],
   "source": [
    "def parse_extrinsics_line(params_line):\n",
    "    image_id, *extrinsics, camera_id, name = params_line.split(' ')\n",
    "    qw, qx, qy, qz, tx, ty, tz = map(lambda x: float(x), extrinsics)\n",
    "    \n",
    "    R = quaternion_rotation_matrix(qw, qx, qy, qz)\n",
    "    T = np.array([tx, ty, tz])\n",
    "        \n",
    "    return ExtrinsicParams(R=R, T=T), image_id, camera_id, name\n",
    "\n",
    "\n",
    "def parse_points(points_line):\n",
    "    points = []\n",
    "    points_line = points_line.split(' ')\n",
    "    \n",
    "    for i in range(len(points_line) // 3):\n",
    "        x, y, point3d_id = points_line[3*i:3*(i + 1)]\n",
    "        x, y = float(x), float(y)\n",
    "        point = Point2d(x=x, y=y, point3d_id=point3d_id)\n",
    "        points.append(point)\n",
    "    return points\n",
    "\n",
    "\n",
    "def parse_images(images_lines):\n",
    "    images_lines = images_lines[4:]\n",
    "    images = []\n",
    "\n",
    "    for i in tqdm.tqdm(range(len(images_lines) // 2)):\n",
    "        extr, image_id, camera_id, name = parse_extrinsics_line(images_lines[2*i].strip())\n",
    "        points = parse_points(images_lines[2*i+1].strip())\n",
    "        intr = camera2intr[camera_id]\n",
    "        image = Image(image_id, name, intr, extr, points)\n",
    "        images.append(image)\n",
    "    return images"
   ]
  },
  {
   "cell_type": "code",
   "execution_count": 10,
   "id": "f4d2c279",
   "metadata": {},
   "outputs": [],
   "source": [
    "def parse_3d_point(point_line):\n",
    "    point_id, x, y, z, *_ = point_line.split(' ')\n",
    "    x, y, z, = float(x), float(y), float(z)\n",
    "    return Point3d(point_id, x, y, z)\n",
    "\n",
    "def parse_3d_points(points_lines):\n",
    "    points = []\n",
    "    for line in tqdm.tqdm(points_lines):\n",
    "        if line.startswith('#'): continue\n",
    "        points.append(parse_3d_point(line))\n",
    "    return points"
   ]
  },
  {
   "cell_type": "markdown",
   "id": "9fbeacd1",
   "metadata": {},
   "source": [
    "### Create pairs"
   ]
  },
  {
   "cell_type": "code",
   "execution_count": 12,
   "id": "0caf6fce",
   "metadata": {},
   "outputs": [],
   "source": [
    "def get_points3d_overlap(points1, points2):\n",
    "    return len(points1 & points2) / min(len(points1), len(points2))"
   ]
  },
  {
   "cell_type": "code",
   "execution_count": 13,
   "id": "b1ac2ad3",
   "metadata": {},
   "outputs": [],
   "source": [
    "def array2string(arr):\n",
    "    s = np.array2string(arr.flatten(), max_line_width=10000000)[1:-1].strip()\n",
    "    # remove unneccesary spaces\n",
    "    s = ' '.join(filter(lambda x: x != '', s.split(' ')))\n",
    "    return s"
   ]
  },
  {
   "cell_type": "code",
   "execution_count": 14,
   "id": "6eca5f90",
   "metadata": {},
   "outputs": [],
   "source": [
    "def make_image_pair_record(image1, image2, points3d_overlap):\n",
    "    # extract intrinsics and extrinsics relative to world coordinates\n",
    "    path1, path2 = image1.name, image2.name\n",
    "    K1, R1, T1 = image1.intr.K, image1.extr.R, image1.extr.T\n",
    "    K2, R2, T2 = image2.intr.K, image2.extr.R, image2.extr.T\n",
    "    \n",
    "    # get relative extrinsics transformation from image 1 to image 2\n",
    "    R12 = R2 @ R1.T\n",
    "    T12 = -R12 @ T1 + T2\n",
    "    RT12 = np.zeros((4, 4), dtype=np.float64)\n",
    "    RT12[:3, :3] = R12\n",
    "    RT12[:3, 3] = T12\n",
    "    RT12[3, 3] = 1\n",
    "    \n",
    "    EXIF1 = EXIF2 = 0\n",
    "    \n",
    "    return f'{path1} {path2} {EXIF1} {EXIF2} {array2string(K1)} {array2string(K2)} {array2string(RT12)} {points3d_overlap}'"
   ]
  },
  {
   "cell_type": "code",
   "execution_count": 15,
   "id": "93d6ba34",
   "metadata": {},
   "outputs": [],
   "source": [
    "def process_scene(images, out_path, targetdir_depth, overlap_interval=[0.1, 0.7]):\n",
    "    \n",
    "    # get only images that have depth map available\n",
    "    images_valid = []\n",
    "    for image in images:\n",
    "        try:\n",
    "            depth = dd.io.load(targetdir_depth / (image.name[:-4] + '.h5'))['depth']\n",
    "        except:\n",
    "            continue\n",
    "        if np.sum(depth == -1) > 0:\n",
    "            continue\n",
    "        images_valid.append(image)\n",
    "    images = images_valid\n",
    "    print(len(images))\n",
    "    \n",
    "    \n",
    "    image_to_3dpoints = []\n",
    "    for image in images:\n",
    "        points_3d = set(map(lambda x: x.point3d_id, filter(lambda x: x.point3d_id != '-1', image.points)))\n",
    "        image_to_3dpoints.append(points_3d)\n",
    "    \n",
    "    counter = 0\n",
    "    with open(out_path, 'w') as f:\n",
    "        for i in tqdm.tqdm(range(len(images))):\n",
    "            for j in range(i + 1, len(images)):\n",
    "                image1, image2 = images[i], images[j]\n",
    "                overlap = get_points3d_overlap(image_to_3dpoints[i], image_to_3dpoints[j])\n",
    "                if overlap_interval[1] >= overlap >= overlap_interval[0]:\n",
    "                    record = make_image_pair_record(image1, image2, overlap)\n",
    "                    counter += 1\n",
    "                    f.write(record + '\\n')\n",
    "    print(counter)"
   ]
  },
  {
   "cell_type": "code",
   "execution_count": 19,
   "id": "a80ab735",
   "metadata": {},
   "outputs": [
    {
     "data": {
      "text/plain": [
       "'0044'"
      ]
     },
     "execution_count": 19,
     "metadata": {},
     "output_type": "execute_result"
    }
   ],
   "source": [
    "scenes_list = os.listdir(os.path.join(MEGADEPTH_PATH, 'Undistorted-SfM/'))\n",
    "scenes_list[0]"
   ]
  },
  {
   "cell_type": "code",
   "execution_count": 22,
   "id": "5e9289ba",
   "metadata": {
    "scrolled": true,
    "tags": []
   },
   "outputs": [
    {
     "name": "stdout",
     "output_type": "stream",
     "text": [
      "Scene 0121\n"
     ]
    }
   ],
   "source": [
    "for scene in scenes_list[-1:]:\n",
    "    print(f'Scene {scene}')\n",
    "    try:\n",
    "        # skip scene if file pairs.txt already exists\n",
    "        if 'pairs.txt' in os.listdir(f'{MEGADEPTH_PATH}Undistorted-SfM/{scene}/sparse-txt/'):\n",
    "            continue\n",
    "    except FileNotFoundError:\n",
    "        continue\n",
    "        \n",
    "    targetdir = Path(f'{MEGADEPTH_PATH}Undistorted-SfM/{scene}/sparse-txt/')\n",
    "    targetdir_depth = Path(f'{MEGADEPTH_PATH}phoenix/S6/zl548/MegaDepth_v1/') / scene / 'dense0' / 'depths'\n",
    "    \n",
    "    with open(targetdir / 'cameras.txt') as f:\n",
    "        camera_lines = f.readlines()\n",
    "        camera_lines = list(map(lambda x: x.strip(), camera_lines))\n",
    "\n",
    "        camera2intr = get_camera2intr(camera_lines)\n",
    "    \n",
    "    with open(targetdir / 'images.txt') as f:\n",
    "        images_lines = f.readlines()\n",
    "        images = parse_images(images_lines)\n",
    "    \n",
    "    process_scene(images, targetdir / 'pairs.txt', targetdir_depth, overlap_interval=[0.1, 0.7])"
   ]
  },
  {
   "cell_type": "code",
   "execution_count": null,
   "id": "c9daa07d",
   "metadata": {},
   "outputs": [],
   "source": []
  }
 ],
 "metadata": {
  "kernelspec": {
   "display_name": "Python 3",
   "language": "python",
   "name": "python3"
  },
  "language_info": {
   "codemirror_mode": {
    "name": "ipython",
    "version": 3
   },
   "file_extension": ".py",
   "mimetype": "text/x-python",
   "name": "python",
   "nbconvert_exporter": "python",
   "pygments_lexer": "ipython3",
   "version": "3.7.5"
  }
 },
 "nbformat": 4,
 "nbformat_minor": 5
}
